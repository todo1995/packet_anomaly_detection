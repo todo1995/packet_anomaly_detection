{
 "cells": [
  {
   "cell_type": "markdown",
   "metadata": {},
   "source": [
    "# パケット異常検知"
   ]
  },
  {
   "cell_type": "markdown",
   "metadata": {},
   "source": [
    "## データの準備"
   ]
  },
  {
   "cell_type": "markdown",
   "metadata": {},
   "source": [
    "* kddcupのデータをインポートし，それぞれの特徴に対して特徴名を付与する"
   ]
  },
  {
   "cell_type": "code",
   "execution_count": 8,
   "metadata": {
    "collapsed": true
   },
   "outputs": [],
   "source": [
    ">>> import pandas\n",
    ">>> \n",
    ">>> col_names = [\"duration\",\"protocol_type\",\"service\",\"flag\",\"src_bytes\",\n",
    "...    \"dst_bytes\",\"land\",\"wrong_fragment\",\"urgent\",\"hot\",\"num_failed_logins\",\n",
    "...    \"logged_in\",\"num_compromised\",\"root_shell\",\"su_attempted\",\"num_root\",\n",
    "...    \"num_file_creations\",\"num_shells\",\"num_access_files\",\"num_outbound_cmds\",\n",
    "...    \"is_host_login\",\"is_guest_login\",\"count\",\"srv_count\",\"serror_rate\",\n",
    "...    \"srv_serror_rate\",\"rerror_rate\",\"srv_rerror_rate\",\"same_srv_rate\",\n",
    "...    \"diff_srv_rate\",\"srv_diff_host_rate\",\"dst_host_count\",\"dst_host_srv_count\",\n",
    "...    \"dst_host_same_srv_rate\",\"dst_host_diff_srv_rate\",\"dst_host_same_src_port_rate\",\n",
    "...    \"dst_host_srv_diff_host_rate\",\"dst_host_serror_rate\",\"dst_host_srv_serror_rate\",\n",
    "...    \"dst_host_rerror_rate\",\"dst_host_srv_rerror_rate\",\"label\"]\n",
    ">>> \n",
    ">>> kdd_data_10percent = pandas.read_csv(\"kddcup99/kddcup.data_10_percent\", header=None, names = col_names)"
   ]
  },
  {
   "cell_type": "markdown",
   "metadata": {},
   "source": [
    "* kdd_data_10percentのprotocol_typeを参照"
   ]
  },
  {
   "cell_type": "code",
   "execution_count": 9,
   "metadata": {
    "scrolled": true
   },
   "outputs": [
    {
     "name": "stdout",
     "output_type": "stream",
     "text": [
      "0         tcp\n",
      "1         tcp\n",
      "2         tcp\n",
      "3         tcp\n",
      "4         tcp\n",
      "5         tcp\n",
      "6         tcp\n",
      "7         tcp\n",
      "8         tcp\n",
      "9         tcp\n",
      "10        tcp\n",
      "11        tcp\n",
      "12        tcp\n",
      "13        tcp\n",
      "14        tcp\n",
      "15        tcp\n",
      "16        tcp\n",
      "17        tcp\n",
      "18        tcp\n",
      "19        tcp\n",
      "20        tcp\n",
      "21        tcp\n",
      "22        tcp\n",
      "23        tcp\n",
      "24        tcp\n",
      "25        tcp\n",
      "26        tcp\n",
      "27        tcp\n",
      "28        tcp\n",
      "29        tcp\n",
      "         ... \n",
      "493991    tcp\n",
      "493992    tcp\n",
      "493993    tcp\n",
      "493994    tcp\n",
      "493995    tcp\n",
      "493996    tcp\n",
      "493997    tcp\n",
      "493998    tcp\n",
      "493999    tcp\n",
      "494000    tcp\n",
      "494001    tcp\n",
      "494002    tcp\n",
      "494003    tcp\n",
      "494004    tcp\n",
      "494005    tcp\n",
      "494006    tcp\n",
      "494007    tcp\n",
      "494008    tcp\n",
      "494009    tcp\n",
      "494010    tcp\n",
      "494011    tcp\n",
      "494012    tcp\n",
      "494013    tcp\n",
      "494014    tcp\n",
      "494015    tcp\n",
      "494016    tcp\n",
      "494017    tcp\n",
      "494018    tcp\n",
      "494019    tcp\n",
      "494020    tcp\n",
      "Name: protocol_type, Length: 494021, dtype: object\n"
     ]
    }
   ],
   "source": [
    "print(kdd_data_10percent.protocol_type)"
   ]
  },
  {
   "cell_type": "markdown",
   "metadata": {
    "collapsed": true
   },
   "source": [
    "### データの整形\n",
    "\n",
    "フィーチャの要素のうち文字列のものにダミー変数を割り振り，数値化する．**(例) http,https=>0,1 など**  \n",
    "文字列で構成されるフィーチャはprotocol_type，service_list，flag_listの３種であるのが目視で確認できたので，これらに対して適用する．　　\n",
    "\n",
    "* それぞれのフィーチャの項目は何種類あるのか検索する"
   ]
  },
  {
   "cell_type": "code",
   "execution_count": 12,
   "metadata": {},
   "outputs": [
    {
     "name": "stdout",
     "output_type": "stream",
     "text": [
      "set(['udp', 'icmp', 'tcp'])\n",
      "set(['domain', 'netbios_ssn', 'urp_i', 'Z39_50', 'smtp', 'gopher', 'private', 'echo', 'printer', 'red_i', 'eco_i', 'sunrpc', 'ftp_data', 'urh_i', 'pm_dump', 'pop_3', 'pop_2', 'systat', 'ftp', 'uucp', 'whois', 'netbios_dgm', 'efs', 'remote_job', 'sql_net', 'daytime', 'ntp_u', 'finger', 'ldap', 'netbios_ns', 'kshell', 'iso_tsap', 'ecr_i', 'nntp', 'shell', 'domain_u', 'uucp_path', 'courier', 'exec', 'tim_i', 'netstat', 'telnet', 'rje', 'hostnames', 'link', 'auth', 'http_443', 'csnet_ns', 'X11', 'IRC', 'tftp_u', 'imap4', 'supdup', 'name', 'nnsp', 'mtp', 'http', 'bgp', 'ctf', 'klogin', 'vmnet', 'time', 'discard', 'login', 'other', 'ssh'])\n",
      "set(['OTH', 'RSTR', 'S3', 'S2', 'S1', 'S0', 'RSTOS0', 'REJ', 'SH', 'RSTO', 'SF'])\n"
     ]
    }
   ],
   "source": [
    "def find_elems(data):\n",
    "    elem_list = []\n",
    "    for elem in data:\n",
    "        elem_list.append(elem)\n",
    "        \n",
    "    return set(elem_list)\n",
    "\n",
    "print(find_elems(kdd_data_10percent['protocol_type']))\n",
    "print(find_elems(kdd_data_10percent['service']))\n",
    "print(find_elems(kdd_data_10percent['flag']))"
   ]
  }
 ],
 "metadata": {
  "kernelspec": {
   "display_name": "Python 2",
   "language": "python",
   "name": "python2"
  },
  "language_info": {
   "codemirror_mode": {
    "name": "ipython",
    "version": 2
   },
   "file_extension": ".py",
   "mimetype": "text/x-python",
   "name": "python",
   "nbconvert_exporter": "python",
   "pygments_lexer": "ipython2",
   "version": "2.7.13"
  }
 },
 "nbformat": 4,
 "nbformat_minor": 2
}
