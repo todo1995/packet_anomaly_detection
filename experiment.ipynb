{
 "cells": [
  {
   "cell_type": "markdown",
   "metadata": {},
   "source": [
    "# パケット異常検知"
   ]
  },
  {
   "cell_type": "markdown",
   "metadata": {},
   "source": [
    "## データの準備"
   ]
  },
  {
   "cell_type": "markdown",
   "metadata": {},
   "source": [
    "* kddcupのデータをインポートし，それぞれの特徴に対して特徴名を付与する"
   ]
  },
  {
   "cell_type": "code",
   "execution_count": 2,
   "metadata": {
    "collapsed": true
   },
   "outputs": [],
   "source": [
    ">>> import pandas\n",
    ">>> \n",
    ">>> col_names = [\"duration\",\"protocol_type\",\"service\",\"flag\",\"src_bytes\",\n",
    "...    \"dst_bytes\",\"land\",\"wrong_fragment\",\"urgent\",\"hot\",\"num_failed_logins\",\n",
    "...    \"logged_in\",\"num_compromised\",\"root_shell\",\"su_attempted\",\"num_root\",\n",
    "...    \"num_file_creations\",\"num_shells\",\"num_access_files\",\"num_outbound_cmds\",\n",
    "...    \"is_host_login\",\"is_guest_login\",\"count\",\"srv_count\",\"serror_rate\",\n",
    "...    \"srv_serror_rate\",\"rerror_rate\",\"srv_rerror_rate\",\"same_srv_rate\",\n",
    "...    \"diff_srv_rate\",\"srv_diff_host_rate\",\"dst_host_count\",\"dst_host_srv_count\",\n",
    "...    \"dst_host_same_srv_rate\",\"dst_host_diff_srv_rate\",\"dst_host_same_src_port_rate\",\n",
    "...    \"dst_host_srv_diff_host_rate\",\"dst_host_serror_rate\",\"dst_host_srv_serror_rate\",\n",
    "...    \"dst_host_rerror_rate\",\"dst_host_srv_rerror_rate\",\"label\"]\n",
    ">>> \n",
    ">>> kdd_data_10percent = pandas.read_csv(\"kddcup99/kddcup.data_10_percent\", header=None, names = col_names)"
   ]
  },
  {
   "cell_type": "markdown",
   "metadata": {},
   "source": [
    "* kdd_data_10percentのprotocol_typeを参照"
   ]
  },
  {
   "cell_type": "code",
   "execution_count": 3,
   "metadata": {
    "scrolled": true
   },
   "outputs": [
    {
     "name": "stdout",
     "output_type": "stream",
     "text": [
      "0         tcp\n",
      "1         tcp\n",
      "2         tcp\n",
      "3         tcp\n",
      "4         tcp\n",
      "5         tcp\n",
      "6         tcp\n",
      "7         tcp\n",
      "8         tcp\n",
      "9         tcp\n",
      "10        tcp\n",
      "11        tcp\n",
      "12        tcp\n",
      "13        tcp\n",
      "14        tcp\n",
      "15        tcp\n",
      "16        tcp\n",
      "17        tcp\n",
      "18        tcp\n",
      "19        tcp\n",
      "20        tcp\n",
      "21        tcp\n",
      "22        tcp\n",
      "23        tcp\n",
      "24        tcp\n",
      "25        tcp\n",
      "26        tcp\n",
      "27        tcp\n",
      "28        tcp\n",
      "29        tcp\n",
      "         ... \n",
      "493991    tcp\n",
      "493992    tcp\n",
      "493993    tcp\n",
      "493994    tcp\n",
      "493995    tcp\n",
      "493996    tcp\n",
      "493997    tcp\n",
      "493998    tcp\n",
      "493999    tcp\n",
      "494000    tcp\n",
      "494001    tcp\n",
      "494002    tcp\n",
      "494003    tcp\n",
      "494004    tcp\n",
      "494005    tcp\n",
      "494006    tcp\n",
      "494007    tcp\n",
      "494008    tcp\n",
      "494009    tcp\n",
      "494010    tcp\n",
      "494011    tcp\n",
      "494012    tcp\n",
      "494013    tcp\n",
      "494014    tcp\n",
      "494015    tcp\n",
      "494016    tcp\n",
      "494017    tcp\n",
      "494018    tcp\n",
      "494019    tcp\n",
      "494020    tcp\n",
      "Name: protocol_type, Length: 494021, dtype: object\n"
     ]
    }
   ],
   "source": [
    "print(kdd_data_10percent.protocol_type)"
   ]
  },
  {
   "cell_type": "markdown",
   "metadata": {
    "collapsed": true
   },
   "source": [
    "### データの整形\n",
    "\n",
    "フィーチャの要素のうち文字列のものにダミー変数を割り振り，数値化する．**(例) http,https=>0,1 など**  \n",
    "文字列で構成されるフィーチャはprotocol_type，service_list，flag_listの３種であるのが目視で確認できたので，これらに対して適用する．　　\n",
    "\n",
    "* それぞれのフィーチャの集合を求める => to_set_elems関数\n",
    "* フィーチャの集合に番号を振る => add_to_index関数\n",
    " - この番号がダミー変数となる"
   ]
  },
  {
   "cell_type": "code",
   "execution_count": 53,
   "metadata": {},
   "outputs": [
    {
     "name": "stdout",
     "output_type": "stream",
     "text": [
      "{'domain': 0, 'http_443': 46, 'Z39_50': 3, 'smtp': 4, 'urp_i': 2, 'private': 6, 'echo': 7, 'shell': 34, 'red_i': 9, 'eco_i': 10, 'sunrpc': 11, 'ftp_data': 12, 'urh_i': 13, 'pm_dump': 14, 'pop_3': 15, 'pop_2': 16, 'systat': 17, 'ftp': 18, 'uucp': 19, 'whois': 20, 'netbios_dgm': 21, 'efs': 22, 'remote_job': 23, 'daytime': 25, 'ntp_u': 26, 'finger': 27, 'ldap': 28, 'netbios_ns': 29, 'kshell': 30, 'iso_tsap': 31, 'ecr_i': 32, 'nntp': 33, 'printer': 8, 'domain_u': 35, 'uucp_path': 36, 'courier': 37, 'exec': 38, 'time': 61, 'netstat': 40, 'telnet': 41, 'gopher': 5, 'rje': 42, 'sql_net': 24, 'link': 44, 'auth': 45, 'netbios_ssn': 1, 'csnet_ns': 47, 'X11': 48, 'IRC': 49, 'tftp_u': 50, 'login': 63, 'supdup': 52, 'name': 53, 'nnsp': 54, 'mtp': 55, 'http': 56, 'bgp': 57, 'ctf': 58, 'hostnames': 43, 'klogin': 59, 'vmnet': 60, 'tim_i': 39, 'discard': 62, 'imap4': 51, 'other': 64, 'ssh': 65}\n"
     ]
    }
   ],
   "source": [
    "protocol_type = kdd_data_10percent['protocol_type']\n",
    "service = kdd_data_10percent['service']\n",
    "flag = kdd_data_10percent['flag']\n",
    "\n",
    "protocol_type_set = service_set = flag_set = []\n",
    "\n",
    "def to_set_elems(data):\n",
    "    elems_list = []\n",
    "    for elem in data:\n",
    "        elems_list.append(elem)\n",
    "\n",
    "    return set(elems_list)\n",
    "\n",
    "def count_set_elems(data):\n",
    "    return len(to_set_elems(data))\n",
    "\n",
    "def add_to_index(data):\n",
    "    temp = []\n",
    "    for (idx, elem) in enumerate(data):\n",
    "        temp.append((elem, idx))\n",
    "    \n",
    "    return dict(temp)\n",
    "        \n",
    "protocol_type_count, service_count, flag_count \\\n",
    "        = map(count_set_elems, (protocol_type, service, flag))\n",
    "# print(protocol_type_counts, service_counts, flag_counts) # => (3, 66, 11)\n",
    "protocol_type_set, service_set, flag_set\\\n",
    "        = map(to_set_elems, (protocol_type, service, flag))\n",
    "# print(protocol_type_set) # => set(['udp', 'icmp', 'tcp'])\n",
    "\n",
    "print(add_to_index(service_set))\n",
    "\n"
   ]
  }
 ],
 "metadata": {
  "kernelspec": {
   "display_name": "Python 2",
   "language": "python",
   "name": "python2"
  },
  "language_info": {
   "codemirror_mode": {
    "name": "ipython",
    "version": 2
   },
   "file_extension": ".py",
   "mimetype": "text/x-python",
   "name": "python",
   "nbconvert_exporter": "python",
   "pygments_lexer": "ipython2",
   "version": "2.7.13"
  }
 },
 "nbformat": 4,
 "nbformat_minor": 2
}
